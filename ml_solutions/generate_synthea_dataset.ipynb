{
  "cells": [
    {
      "cell_type": "markdown",
      "metadata": {
        "colab_type": "text",
        "id": "BZAzCqbzkS7O"
      },
      "source": [
        "# **Introduction**\n",
        "This tutorial shows how to generate data using the Synthea generator and then upload the data into BigQuery. This is a prerequisite for other tutorials that work with the Synthea dataset.\n",
        "\n",
        "**Synthea**\n",
        "\n",
        "[Synthea](https://github.com/synthetichealth/synthea) is a data generator that simulates the lives of patients based on several medical modules. Each module models a different medical condition based on some real world statistics. Each patient in the Synthea dataset dies either due to medical reasons or non-medical random events not modeled by the generator."
      ]
    },
    {
      "cell_type": "markdown",
      "metadata": {
        "colab_type": "text",
        "id": "0r6eqehZzfup"
      },
      "source": [
        "## Requirements\n",
        "To run this tutorial you will need a GCP project with a billing account.\n",
        "\n",
        "## Costs\n",
        "There is a small cost associated with importing the dataset and storing it in BigQuery.\n",
        "\n",
        "## Setup\n",
        "\n",
        "NOTE: At present, this demo works only on Colab. To run the demo, go to\n",
        "https://colab.research.google.com and upload the notebook into your environment.\n",
        "(The first step, generating data using Synthea, requires the Java SDK which is available by default in Colab and not in Cloud Datalab or ML notebooks).\n",
        "\n",
        "First, you need to sign into your Google account to access Google Cloud\n",
        "Platform (GCP)."
      ]
    },
    {
      "cell_type": "markdown",
      "metadata": {
        "colab_type": "text",
        "id": "aGj0Aldmzse3"
      },
      "source": [
        "**Authentication** Run the following commands, click on the link that displays, and follow the instructions to authenticate. Scroll to the results box to the left to see where to paste the key you will copy from the browser.\n",
        "\n",
        "NOTE: You will need to repeat this step each time you reconnect to the notebook server."
      ]
    },
    {
      "cell_type": "code",
      "execution_count": 0,
      "metadata": {
        "colab": {},
        "colab_type": "code",
        "id": "kpbzGWDwGvLZ"
      },
      "outputs": [],
      "source": [
        "from google.colab import auth\n",
        "auth.authenticate_user()\n",
        "credentials = auth._check_adc()\n",
        "print(credentials)"
      ]
    },
    {
      "cell_type": "markdown",
      "metadata": {
        "colab_type": "text",
        "id": "K24XIwhP826n"
      },
      "source": [
        "**Library Imports**:\n",
        "\n",
        "NOTE: You will need to repeat this step each time you reconnect to the notebook server."
      ]
    },
    {
      "cell_type": "code",
      "execution_count": 0,
      "metadata": {
        "colab": {},
        "colab_type": "code",
        "id": "rfvV5UDsGGbO"
      },
      "outputs": [],
      "source": [
        "from google.cloud import bigquery\n",
        "from google.cloud import storage"
      ]
    },
    {
      "cell_type": "markdown",
      "metadata": {
        "colab_type": "text",
        "id": "KI5qIIoh9Qrz"
      },
      "source": [
        "**Setup**:\n",
        "\n",
        "Enter the name of your GCP project and the name of a staging bucket in Cloud Storage. The staging bucket will be created if it does not exist. The dataset name, output table, and model names are supplied for you.\n",
        "\n",
        "NOTE: You will need to repeat this step each time you reconnect to the notebook server."
      ]
    },
    {
      "cell_type": "code",
      "execution_count": 0,
      "metadata": {
        "colab": {},
        "colab_type": "code",
        "id": "sOm2d4mj9VDS"
      },
      "outputs": [],
      "source": [
        "project = \"\" #@param {type:\"string\"}\n",
        "if not project:\n",
        "  raise Exception(\"Project is empty.\")\n",
        "\n",
        "!gcloud config set project $project\n",
        "\n",
        "\n",
        "dataset = \"SYNMASS_2k\" #@param {type:\"string\"}\n",
        "\n",
        "staging_bucket_name = \"\" #@param {type:\"string\"}\n",
        "\n",
        "\n",
        "if not staging_bucket_name:\n",
        "  raise Exception(\"Staging bucket name is empty.\")\n",
        "\n",
        "if staging_bucket_name.startswith(\"gs://\"):\n",
        "  staging_bucket_path = staging_bucket_name\n",
        "  staging_bucket_name = staging_bucket_path[5:]\n",
        "else:\n",
        "  staging_bucket_path = \"gs://\" + staging_bucket_name\n",
        "\n",
        "# Create the staging bucket if it doesn't exist.\n",
        "storage_client = storage.Client(project)\n",
        "if storage_client.lookup_bucket(staging_bucket_name) is None:\n",
        "  bucket = storage_client.create_bucket(staging_bucket_name)\n"
      ]
    },
    {
      "cell_type": "markdown",
      "metadata": {
        "colab_type": "text",
        "id": "GghUtmGgdCyO"
      },
      "source": [
        "# Generate the Synthea data\n",
        "\n",
        "This section explains how to generate synthetic data and import it into BigQuery.\n",
        "You only need to complete this step once. You do not need to complete it again if you restart or reconnect to this notebook.\n",
        "\n",
        "First, clone the Synthea generator from GitHub, and then build it using Gradle.\n",
        "\n",
        "This step takes two to three minutes.\n",
        "\n",
        "You'll know that the build has finished successfully when the output contains `BUILD SUCCESSFUL`. If you encounter any errors about missing JavaDoc comments, you can safely ignore them."
      ]
    },
    {
      "cell_type": "code",
      "execution_count": 0,
      "metadata": {
        "colab": {},
        "colab_type": "code",
        "id": "CkUDr3kCdBuW"
      },
      "outputs": [],
      "source": [
        "# Clone the Synthea code\n",
        "!git clone https://github.com/synthetichealth/synthea.git\n",
        "# Compile the code. This will take ~2 minutes.\n",
        "%cd ./synthea\n",
        "!git checkout 56032e01bd2afb154dd94f62ae836459ee7821c9\n",
        "!./gradlew build -x test"
      ]
    },
    {
      "cell_type": "markdown",
      "metadata": {
        "colab_type": "text",
        "id": "w2p54eut5MVt"
      },
      "source": [
        "**Generate the data**\n",
        "\n",
        "In this step, you generate clinical data for 2,000 patients. Synthea supports multiple output formats including FHIR and CSV. This tutorial uses the CSV format.\n",
        "\n",
        "NOTE: This step takes ~8 minutes to run."
      ]
    },
    {
      "cell_type": "code",
      "execution_count": 0,
      "metadata": {
        "colab": {},
        "colab_type": "code",
        "id": "fCkzpm634qn_"
      },
      "outputs": [],
      "source": [
        "%%bash\n",
        "time ./run_synthea Massachusetts -p 2000 -s 123 --exporter.csv.export=true \u003e data_generation.log 2\u003e error.log\n",
        "echo \"done\""
      ]
    },
    {
      "cell_type": "markdown",
      "metadata": {
        "colab_type": "text",
        "id": "iJX_6W34fMmZ"
      },
      "source": [
        "**Export the data to BigQuery**\n",
        "\n",
        "Run the following commands to create a BigQuery dataset and then import the CSV files into the dataset. A Dataflow job runs that detects the underlying table schema and imports the data into BigQuery.\n",
        "\n",
        "NOTE: The output might contain a list of all of your projects. However, the project set by the `$project` variable will automatically be selected at the end of the operation, so you don't need to enter anything."
      ]
    },
    {
      "cell_type": "code",
      "execution_count": 0,
      "metadata": {
        "colab": {},
        "colab_type": "code",
        "id": "XwcHwxJz-E6b"
      },
      "outputs": [],
      "source": [
        "%%bash -s \"$project\" \"$dataset\"\n",
        "\n",
        "# This step is only needed if the dataset does not exist.\n",
        "bq mk --dataset $1:$2"
      ]
    },
    {
      "cell_type": "markdown",
      "metadata": {
        "colab_type": "text",
        "id": "zbxFaNnJHHL6"
      },
      "source": [
        "Run the following commands to:\n",
        "\n",
        "1. Make sure Java 8 is used, because later versions are not yet supported by Cloud Dataflow.\n",
        "2. Clone the data importer code into the notebook environment.\n",
        "3. Compress the generated CSV files and copy them to Google Cloud Storage.\n",
        "\n",
        "\n",
        "\n"
      ]
    },
    {
      "cell_type": "code",
      "execution_count": 0,
      "metadata": {
        "colab": {},
        "colab_type": "code",
        "id": "IInHtHszvwgM"
      },
      "outputs": [],
      "source": [
        "%%bash -s \"$staging_bucket_path\"\n",
        "apt install openjdk-8-jdk\n",
        "update-java-alternatives -s java-1.8.0-openjdk-amd64\n",
        "git clone https://github.com/GoogleCloudPlatform/bigquery-data-importer.git\n",
        "tar --create --gzip --file synmass.tar.gz output/csv\n",
        "gsutil cp synmass.tar.gz \"$1\""
      ]
    },
    {
      "cell_type": "markdown",
      "metadata": {
        "colab_type": "text",
        "id": "JpvkM_VaHtHK"
      },
      "source": [
        "Run the data importer pipeline. This step takes ~ 11 minutes, you can monitor the progress of job via Cloud dataflow dashboard (https://console.cloud.google.com/dataflow). Before running this command, please use the Cloud Platform Console, https://console.developers.google.com/apis/api/dataflow.googleapis.com/overview, to enable Dataflow API."
      ]
    },
    {
      "cell_type": "code",
      "execution_count": 0,
      "metadata": {
        "colab": {},
        "colab_type": "code",
        "id": "cKeWi0SZSqk8"
      },
      "outputs": [],
      "source": [
        "%cd bigquery-data-importer"
      ]
    },
    {
      "cell_type": "code",
      "execution_count": 0,
      "metadata": {
        "colab": {},
        "colab_type": "code",
        "id": "o-1k_CuDuhWw"
      },
      "outputs": [],
      "source": [
        "%%bash -s \"$project\" \"$dataset\" \"$staging_bucket_path\" \"$staging_bucket_name\"\n",
        "\n",
        "./gradlew run --stacktrace -PappArgs=\"[\\\n",
        "'--gcp_project_id', '${1}',\\\n",
        "'--gcs_uri', '${3}/synmass.tar.gz',\\\n",
        "'--bq_dataset', '${2}',\\\n",
        "'--temp_bucket', '${4}',\\\n",
        "'--verbose', 'true'\n",
        "]\""
      ]
    },
    {
      "cell_type": "markdown",
      "metadata": {
        "colab_type": "text",
        "id": "ejMTUhx--NAD"
      },
      "source": [
        "#Examine the Synthea data in BigQuery\n",
        "\n",
        "By this point, you have: installed Synthea, used it to synthesize data on 2,000 patients, and imported the resulting CSV files into BigQuery. To explore the data, complete the following steps:\n",
        "\n",
        "1. Go to the Cloud Console.\n",
        "2. Select the project under which you are running this tutorial.\n",
        "3. Using the \"hamburger\" menu on the upper left, scroll down to the \"Big Data\" section and select BigQuery.\n",
        "4. A list of projects under which you have BigQuery datasets displays. Select the tutorial project (again).\n",
        "5. A dataset displays under the tutorial project. The default name of the dataset is SYNMASS_2K, but if you used a different value then that value will appear.\n",
        "6. Click on the dataset. A list of tables appears:\n",
        "\n",
        "    allergies,\n",
        "\n",
        "    careplans,\n",
        "\n",
        "    conditions,\n",
        "\n",
        "    encounters,\n",
        "\n",
        "    imaging_studies,\n",
        "\n",
        "    immunizations,\n",
        "\n",
        "    medications,\n",
        "\n",
        "    observations,\n",
        "\n",
        "    organizations,\n",
        "\n",
        "    patients,\n",
        "\n",
        "    providers\n",
        "\n",
        "7. Select any of the tables and then explore it using the **schema** and **preview** tabs."
      ]
    }
  ],
  "metadata": {
    "colab": {
      "collapsed_sections": [],
      "name": "Generate_Synthea.ipynb"
    },
    "kernelspec": {
      "display_name": "Python 2",
      "name": "python2"
    }
  },
  "nbformat": 4,
  "nbformat_minor": 0
}
